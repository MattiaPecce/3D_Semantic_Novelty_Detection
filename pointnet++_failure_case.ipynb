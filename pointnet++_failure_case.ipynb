{
 "cells": [
  {
   "cell_type": "code",
   "execution_count": null,
   "metadata": {},
   "outputs": [],
   "source": [
    "import torch\n",
    "print(torch.__version__)"
   ]
  },
  {
   "cell_type": "code",
   "execution_count": null,
   "metadata": {},
   "outputs": [],
   "source": [
    "!git clone https://github.com/MattiaPecce/3D_Semantic_Novelty_Detection"
   ]
  },
  {
   "cell_type": "code",
   "execution_count": null,
   "metadata": {},
   "outputs": [],
   "source": [
    "%cd 3D_Semantic_Novelty_Detection/"
   ]
  },
  {
   "cell_type": "code",
   "execution_count": null,
   "metadata": {},
   "outputs": [],
   "source": [
    "# installing pointnet++\n",
    "!pip install ninja\n",
    "!git clone https://github.com/erikwijmans/Pointnet2_PyTorch\n",
    "%cd /content/Pointnet2_PyTorch\n",
    "!python setup.py install\n",
    "\n",
    "# moving to root directory\n",
    "%cd .."
   ]
  },
  {
   "cell_type": "code",
   "execution_count": null,
   "metadata": {},
   "outputs": [],
   "source": [
    "# install minimal requirements (pytorch is already installed in colab)\n",
    "!pip install timm==0.5.4 wandb tqdm h5py==3.6.0 protobuf==3.20.1 lmdb==1.2.1 msgpack-numpy==0.4.7.1 scikit-learn"
   ]
  },
  {
   "cell_type": "code",
   "execution_count": null,
   "metadata": {},
   "outputs": [],
   "source": [
    "!pip install \"https://github.com/unlimblue/KNN_CUDA/releases/download/0.2/KNN_CUDA-0.2-py3-none-any.whl\""
   ]
  },
  {
   "cell_type": "code",
   "execution_count": null,
   "metadata": {},
   "outputs": [],
   "source": [
    "# Log in to your W&B account\n",
    "import wandb\n",
    "wandb.login()"
   ]
  },
  {
   "cell_type": "code",
   "execution_count": null,
   "metadata": {},
   "outputs": [],
   "source": [
    "# knn-cuda in classifier was not not found\n",
    "!git clone https://github.com/unlimblue/KNN_CUDA.git\n",
    "%cd KNN_CUDA\n",
    "!make && make install"
   ]
  },
  {
   "cell_type": "code",
   "execution_count": null,
   "metadata": {},
   "outputs": [],
   "source": [
    "%cd ..\n"
   ]
  },
  {
   "cell_type": "code",
   "execution_count": null,
   "metadata": {},
   "outputs": [],
   "source": [
    "%cd 3D_Semantic_Novelty_Detection/"
   ]
  },
  {
   "cell_type": "code",
   "execution_count": null,
   "metadata": {},
   "outputs": [],
   "source": [
    "!sh download_data.sh"
   ]
  },
  {
   "cell_type": "code",
   "execution_count": null,
   "metadata": {},
   "outputs": [],
   "source": [
    "# training: pn2 classifier on SR1\n",
    "!python classifiers/trainer_cla_md_fc.py --config cfgs/pn2-msg.yaml  --exp_name PN2_CE_SR1_wEVAL --src SR1 --loss CE --wandb_proj AML_DAAI_proj23_24_test --batch_size 32"
   ]
  },
  {
   "cell_type": "code",
   "execution_count": null,
   "metadata": {},
   "outputs": [],
   "source": [
    "# evalualtion: pn2 classifier on SR1\n",
    "!python classifiers/trainer_cla_md_fc.py --config cfgs/pn2-msg.yaml --exp_name PN2_CE_SR1_EVAL --src SR1 --loss CE -mode eval --ckpt_path outputs/PN2_CE_SR1_wEVAL/models/model_last.pth"
   ]
  },
  {
   "cell_type": "code",
   "execution_count": null,
   "metadata": {},
   "outputs": [],
   "source": [
    "# training: pn2 classifier on SR2\n",
    "!python classifiers/trainer_cla_md_fc.py --config cfgs/pn2-msg.yaml  --exp_name PN2_CE_SR2_wEVAL --src SR2 --loss CE --wandb_proj AML_DAAI_proj23_24_test --batch_size 32"
   ]
  },
  {
   "cell_type": "code",
   "execution_count": null,
   "metadata": {},
   "outputs": [],
   "source": [
    "# evalualtion: pn2 classifier on SR2\n",
    "!python classifiers/trainer_cla_md_fc.py --config cfgs/pn2-msg.yaml --exp_name PN2_CE_SR2_EVAL --src SR2 --loss CE -mode eval --ckpt_path outputs/PN2_CE_SR1_wEVAL/models/model_last.pth"
   ]
  }
 ],
 "metadata": {
  "language_info": {
   "name": "python"
  }
 },
 "nbformat": 4,
 "nbformat_minor": 2
}
