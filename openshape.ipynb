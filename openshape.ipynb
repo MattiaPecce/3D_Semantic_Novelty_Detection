{
 "cells": [
  {
   "cell_type": "code",
   "execution_count": null,
   "metadata": {},
   "outputs": [],
   "source": [
    "import torch\n",
    "print(torch.__version__)\n",
    "print(torch.cuda.is_available())"
   ]
  },
  {
   "cell_type": "code",
   "execution_count": null,
   "metadata": {},
   "outputs": [],
   "source": [
    "!git clone https://github.com/MattiaPecce/3D_Semantic_Novelty_Detection"
   ]
  },
  {
   "cell_type": "code",
   "execution_count": null,
   "metadata": {},
   "outputs": [],
   "source": [
    "%cd 3D_Semantic_Novelty_Detection/"
   ]
  },
  {
   "cell_type": "code",
   "execution_count": null,
   "metadata": {},
   "outputs": [],
   "source": [
    "!git lfs install\n",
    "!git clone https://huggingface.co/OpenShape/openshape-pointbert-vitg14-rgb"
   ]
  },
  {
   "cell_type": "code",
   "execution_count": null,
   "metadata": {},
   "outputs": [],
   "source": [
    "!pip install \"https://github.com/unlimblue/KNN_CUDA/releases/download/0.2/KNN_CUDA-0.2-py3-none-any.whl\""
   ]
  },
  {
   "cell_type": "code",
   "execution_count": null,
   "metadata": {},
   "outputs": [],
   "source": [
    "# install minimal requirements (pytorch is already installed in colab)\n",
    "!pip install timm==0.5.4 wandb tqdm h5py==3.6.0 protobuf==3.20.1 lmdb==1.2.1 msgpack-numpy==0.4.7.1 scikit-learn torch_redstone einops dgl ninja open3d"
   ]
  },
  {
   "cell_type": "code",
   "execution_count": null,
   "metadata": {},
   "outputs": [],
   "source": [
    "%cd content/3D_Semantic_Novelty_Detection/\n",
    "!pip install -r requirements.txt"
   ]
  },
  {
   "cell_type": "code",
   "execution_count": null,
   "metadata": {},
   "outputs": [],
   "source": [
    "#SR1 eval\n",
    "!python classifiers/trainer_cla_md_openshape.py --config cfgs/pointBERTg14.yaml --exp_name os_sr1 --src SR1 --loss CE -mode eval --ckpt_path /content/drive/MyDrive/3D_Semantic_Novelty_Detection/openshape-pointbert-vitg14-rgb/model.pt "
   ]
  },
  {
   "cell_type": "code",
   "execution_count": null,
   "metadata": {},
   "outputs": [],
   "source": [
    "#SR2 eval\n",
    "!python classifiers/trainer_cla_md_openshape.py --config cfgs/pointBERTg14.yaml --exp_name os_sr2 --src SR2 --loss CE -mode eval --ckpt_path /content/drive/MyDrive/3D_Semantic_Novelty_Detection/openshape-pointbert-vitg14-rgb/model.pt "
   ]
  }
 ],
 "metadata": {
  "language_info": {
   "name": "python"
  }
 },
 "nbformat": 4,
 "nbformat_minor": 2
}
